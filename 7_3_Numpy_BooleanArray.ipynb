{
 "cells": [
  {
   "cell_type": "code",
   "execution_count": 2,
   "metadata": {},
   "outputs": [
    {
     "name": "stdout",
     "output_type": "stream",
     "text": [
      "[ 1  2  3  4  5  6  7  8  9 10]\n",
      "['a' 'b' 'c' 'd' 'a' 'e' 'b']\n"
     ]
    }
   ],
   "source": [
    "import numpy as np\n",
    "nums = np.array([1,2,3,4,5,6,7,8,9,10])\n",
    "letters = np.array(['a','b','c','d','a','e','b'])\n",
    "\n",
    "print nums\n",
    "print letters"
   ]
  },
  {
   "cell_type": "code",
   "execution_count": 9,
   "metadata": {},
   "outputs": [
    {
     "name": "stdout",
     "output_type": "stream",
     "text": [
      "Using boolean array to get selection\n",
      "[ True  True  True  True False False False False False False]\n"
     ]
    }
   ],
   "source": [
    "print 'Using boolean array to get selection'\n",
    "less_then_5 = nums < 5\n",
    "print less_then_5"
   ]
  },
  {
   "cell_type": "code",
   "execution_count": 4,
   "metadata": {},
   "outputs": [
    {
     "name": "stdout",
     "output_type": "stream",
     "text": [
      "[ True False False False  True False False]\n"
     ]
    }
   ],
   "source": [
    "pos_a = letters == 'a'\n",
    "print pos_a"
   ]
  },
  {
   "cell_type": "code",
   "execution_count": 5,
   "metadata": {},
   "outputs": [
    {
     "name": "stdout",
     "output_type": "stream",
     "text": [
      "[1 2 3 4]\n"
     ]
    }
   ],
   "source": [
    "nums_less_then_5 = nums[less_then_5]\n",
    "print nums_less_then_5"
   ]
  },
  {
   "cell_type": "code",
   "execution_count": 6,
   "metadata": {},
   "outputs": [
    {
     "name": "stdout",
     "output_type": "stream",
     "text": [
      "[[1 2 3 4]\n",
      " [5 6 7 8]\n",
      " [9 1 5 7]]\n"
     ]
    }
   ],
   "source": [
    "m = np.matrix('1 2 3 4; 5 6 7 8; 9 1 5 7')\n",
    "print m"
   ]
  },
  {
   "cell_type": "code",
   "execution_count": 7,
   "metadata": {},
   "outputs": [
    {
     "name": "stdout",
     "output_type": "stream",
     "text": [
      "[[False False  True  True]\n",
      " [ True  True  True False]\n",
      " [False False  True  True]]\n"
     ]
    }
   ],
   "source": [
    "mod_m = np.logical_and(m>=3,m<=7)\n",
    "print mod_m"
   ]
  },
  {
   "cell_type": "code",
   "execution_count": 8,
   "metadata": {},
   "outputs": [
    {
     "name": "stdout",
     "output_type": "stream",
     "text": [
      "[[3 4 5 6 7 5 7]]\n"
     ]
    }
   ],
   "source": [
    "print m[mod_m]"
   ]
  },
  {
   "cell_type": "code",
   "execution_count": 10,
   "metadata": {},
   "outputs": [
    {
     "name": "stdout",
     "output_type": "stream",
     "text": [
      "Indexing with boolean expression\n",
      "[1 2 3 4]\n"
     ]
    }
   ],
   "source": [
    "print 'Indexing with boolean expression'\n",
    "nums = np.array([1,2,3,4,5,6,7,8,9,10])\n",
    "nums = nums[nums<5]\n",
    "print nums"
   ]
  },
  {
   "cell_type": "code",
   "execution_count": 12,
   "metadata": {},
   "outputs": [
    {
     "name": "stdout",
     "output_type": "stream",
     "text": [
      "[10 10 10 10  5  6  7  8  9 10]\n"
     ]
    }
   ],
   "source": [
    "nums1 = np.array([1,2,3,4,5,6,7,8,9,10])\n",
    "nums1[nums1 < 5] = 10\n",
    "print nums1"
   ]
  },
  {
   "cell_type": "code",
   "execution_count": null,
   "metadata": {},
   "outputs": [],
   "source": []
  }
 ],
 "metadata": {
  "kernelspec": {
   "display_name": "Python 2",
   "language": "python",
   "name": "python2"
  },
  "language_info": {
   "codemirror_mode": {
    "name": "ipython",
    "version": 2
   },
   "file_extension": ".py",
   "mimetype": "text/x-python",
   "name": "python",
   "nbconvert_exporter": "python",
   "pygments_lexer": "ipython2",
   "version": "2.7.16"
  }
 },
 "nbformat": 4,
 "nbformat_minor": 2
}
