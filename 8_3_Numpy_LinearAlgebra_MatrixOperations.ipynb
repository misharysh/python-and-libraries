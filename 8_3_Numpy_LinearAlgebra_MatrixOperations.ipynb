{
 "cells": [
  {
   "cell_type": "code",
   "execution_count": 1,
   "metadata": {},
   "outputs": [
    {
     "name": "stdout",
     "output_type": "stream",
     "text": [
      "multiply matrix by number\n",
      "[[ 3  6  9]\n",
      " [12 15 18]]\n"
     ]
    }
   ],
   "source": [
    "print 'multiply matrix by number'\n",
    "import numpy as np\n",
    "A = np.matrix('1 2 3; 4 5 6')\n",
    "C = 3 * A\n",
    "print C"
   ]
  },
  {
   "cell_type": "code",
   "execution_count": 2,
   "metadata": {},
   "outputs": [
    {
     "name": "stdout",
     "output_type": "stream",
     "text": [
      "[[0 0 0]\n",
      " [0 0 0]]\n"
     ]
    }
   ],
   "source": [
    "A = np.matrix('1 2 3; 4 5 6')\n",
    "D = 0 * A\n",
    "print D"
   ]
  },
  {
   "cell_type": "code",
   "execution_count": 3,
   "metadata": {},
   "outputs": [
    {
     "name": "stdout",
     "output_type": "stream",
     "text": [
      "multiply matrix by the sum of numbers\n",
      "[[ 5 10]\n",
      " [15 20]]\n",
      "[[ 5 10]\n",
      " [15 20]]\n"
     ]
    }
   ],
   "source": [
    "print 'multiply matrix by the sum of numbers'\n",
    "A = np.matrix('1 2;3 4')\n",
    "p = 2\n",
    "q = 3\n",
    "\n",
    "L = (p + q) * A\n",
    "R = p*A + q*A\n",
    "\n",
    "print L\n",
    "print R"
   ]
  },
  {
   "cell_type": "code",
   "execution_count": 4,
   "metadata": {},
   "outputs": [
    {
     "name": "stdout",
     "output_type": "stream",
     "text": [
      "multiply matrix by the multiply of two numbers\n",
      "[[ 6 12]\n",
      " [18 24]]\n",
      "[[ 6 12]\n",
      " [18 24]]\n"
     ]
    }
   ],
   "source": [
    "print 'multiply matrix by the multiply of two numbers'\n",
    "A = np.matrix('1 2; 3 4')\n",
    "p = 2\n",
    "q = 3\n",
    "\n",
    "L = (p*q) * A\n",
    "R = p * (q*A)\n",
    "\n",
    "print L\n",
    "print R"
   ]
  },
  {
   "cell_type": "code",
   "execution_count": 5,
   "metadata": {},
   "outputs": [
    {
     "name": "stdout",
     "output_type": "stream",
     "text": [
      "matrix addition\n",
      "[[ 9  7  8]\n",
      " [14 11 19]]\n"
     ]
    }
   ],
   "source": [
    "print 'matrix addition'\n",
    "A = np.matrix('1 6 3; 8 2 7')\n",
    "B = np.matrix('8 1 5; 6 9 12')\n",
    "\n",
    "C = A + B\n",
    "print C"
   ]
  },
  {
   "cell_type": "code",
   "execution_count": 6,
   "metadata": {},
   "outputs": [
    {
     "name": "stdout",
     "output_type": "stream",
     "text": [
      "Addition commutativity\n",
      "[[ 5  7]\n",
      " [ 9 11]]\n",
      "[[ 5  7]\n",
      " [ 9 11]]\n"
     ]
    }
   ],
   "source": [
    "print 'Addition commutativity'\n",
    "A = np.matrix('1 2; 3 4')\n",
    "B = np.matrix('4 5; 6 7')\n",
    "\n",
    "C = A + B\n",
    "D = B + A\n",
    "print C\n",
    "print D"
   ]
  },
  {
   "cell_type": "code",
   "execution_count": 7,
   "metadata": {},
   "outputs": [
    {
     "name": "stdout",
     "output_type": "stream",
     "text": [
      "Associativity addition\n",
      "[[ 7 15]\n",
      " [19 15]]\n",
      "[[ 7 15]\n",
      " [19 15]]\n"
     ]
    }
   ],
   "source": [
    "print 'Associativity addition'\n",
    "A = np.matrix('1 2;3 4')\n",
    "B = np.matrix('5 6;7 8')\n",
    "C = np.matrix('1 7;9 3')\n",
    "\n",
    "L = A + (B + C)\n",
    "R = (A + B) + C\n",
    "print L\n",
    "print R"
   ]
  },
  {
   "cell_type": "code",
   "execution_count": 10,
   "metadata": {},
   "outputs": [
    {
     "name": "stdout",
     "output_type": "stream",
     "text": [
      "Inverse matrix\n",
      "[[1 2]\n",
      " [3 4]]\n",
      "[[-1 -2]\n",
      " [-3 -4]]\n",
      "[[0 0]\n",
      " [0 0]]\n"
     ]
    }
   ],
   "source": [
    "print 'Inverse matrix'\n",
    "A = np.matrix('1 2;3 4')\n",
    "print A\n",
    "B = (-1) * A\n",
    "print B\n",
    "\n",
    "C = A + B\n",
    "print C"
   ]
  },
  {
   "cell_type": "code",
   "execution_count": 11,
   "metadata": {},
   "outputs": [
    {
     "name": "stdout",
     "output_type": "stream",
     "text": [
      "multiply matrixes\n",
      "[[31 19]\n",
      " [85 55]]\n"
     ]
    }
   ],
   "source": [
    "print 'multiply matrixes'\n",
    "A = np.matrix('1 2 3; 4 5 6')\n",
    "B = np.matrix('7 8; 9 1; 2 3')\n",
    "\n",
    "C = A.dot(B)\n",
    "print C"
   ]
  },
  {
   "cell_type": "code",
   "execution_count": 12,
   "metadata": {},
   "outputs": [
    {
     "name": "stdout",
     "output_type": "stream",
     "text": [
      "Associativity multiply\n",
      "[[192 252]\n",
      " [436 572]]\n",
      "[[192 252]\n",
      " [436 572]]\n"
     ]
    }
   ],
   "source": [
    "print 'Associativity multiply'\n",
    "A = np.matrix('1 2; 3 4')\n",
    "B = np.matrix('5 6; 7 8')\n",
    "C = np.matrix('2 4; 7 8')\n",
    "\n",
    "L = A.dot(B.dot(C))\n",
    "print L\n",
    "\n",
    "R = (A.dot(B)).dot(C)\n",
    "print R"
   ]
  },
  {
   "cell_type": "code",
   "execution_count": 14,
   "metadata": {},
   "outputs": [
    {
     "name": "stdout",
     "output_type": "stream",
     "text": [
      "Distributivity multiply\n",
      "[[35 42]\n",
      " [77 94]]\n",
      "[[35 42]\n",
      " [77 94]]\n"
     ]
    }
   ],
   "source": [
    "print 'Distributivity multiply'\n",
    "A = np.matrix('1 2; 3 4')\n",
    "B = np.matrix('5 6; 7 8')\n",
    "C = np.matrix('2 4; 7 8')\n",
    "\n",
    "L = A.dot(B + C)\n",
    "R= A.dot(B) + A.dot(C)\n",
    "print L\n",
    "print R"
   ]
  },
  {
   "cell_type": "code",
   "execution_count": 15,
   "metadata": {},
   "outputs": [
    {
     "name": "stdout",
     "output_type": "stream",
     "text": [
      "Commutativity of matrixes\n",
      "L != R\n",
      "[[16 19]\n",
      " [36 43]]\n",
      "[[19 28]\n",
      " [27 40]]\n"
     ]
    }
   ],
   "source": [
    "print 'Commutativity of matrixes'\n",
    "A = np.matrix('1 2;3 4')\n",
    "B = np.matrix('4 5;6 7')\n",
    "\n",
    "L = A.dot(B)\n",
    "R = B.dot(A)\n",
    "\n",
    "print 'L != R'\n",
    "print L\n",
    "print R"
   ]
  },
  {
   "cell_type": "code",
   "execution_count": 16,
   "metadata": {},
   "outputs": [
    {
     "name": "stdout",
     "output_type": "stream",
     "text": [
      "unit matrix multiplication\n",
      "[[1 2]\n",
      " [3 4]]\n",
      "[[1 2]\n",
      " [3 4]]\n"
     ]
    }
   ],
   "source": [
    "print 'unit matrix multiplication'\n",
    "A = np.matrix('1 2;3 4')\n",
    "B = np.matrix('1 0;0 1')\n",
    "\n",
    "L = B.dot(A)\n",
    "R = A.dot(B)\n",
    "\n",
    "print L\n",
    "print R"
   ]
  },
  {
   "cell_type": "code",
   "execution_count": null,
   "metadata": {},
   "outputs": [],
   "source": []
  }
 ],
 "metadata": {
  "kernelspec": {
   "display_name": "Python 2",
   "language": "python",
   "name": "python2"
  },
  "language_info": {
   "codemirror_mode": {
    "name": "ipython",
    "version": 2
   },
   "file_extension": ".py",
   "mimetype": "text/x-python",
   "name": "python",
   "nbconvert_exporter": "python",
   "pygments_lexer": "ipython2",
   "version": "2.7.16"
  }
 },
 "nbformat": 4,
 "nbformat_minor": 2
}
