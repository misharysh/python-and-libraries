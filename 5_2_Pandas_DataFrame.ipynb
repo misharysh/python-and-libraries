{
 "cells": [
  {
   "cell_type": "code",
   "execution_count": 4,
   "metadata": {},
   "outputs": [
    {
     "name": "stdout",
     "output_type": "stream",
     "text": [
      "Create dataFrame using dictionary\n",
      "    count  price\n",
      "v1     10      1\n",
      "v2     12      2\n",
      "v3      7      3\n"
     ]
    }
   ],
   "source": [
    "import pandas as pd\n",
    "print 'Create dataFrame using dictionary'\n",
    "d = {\"price\": pd.Series([1,2,3], index=['v1','v2','v3']),\n",
    "    \"count\" : pd.Series([10,12,7],index=['v1','v2','v3'])}\n",
    "\n",
    "df1 = pd.DataFrame(d)\n",
    "print df1"
   ]
  },
  {
   "cell_type": "code",
   "execution_count": 2,
   "metadata": {},
   "outputs": [
    {
     "name": "stdout",
     "output_type": "stream",
     "text": [
      "Index([u'v1', u'v2', u'v3'], dtype='object')\n"
     ]
    }
   ],
   "source": [
    "print df1.index"
   ]
  },
  {
   "cell_type": "code",
   "execution_count": 3,
   "metadata": {},
   "outputs": [
    {
     "name": "stdout",
     "output_type": "stream",
     "text": [
      "Index([u'count', u'price'], dtype='object')\n"
     ]
    }
   ],
   "source": [
    "print df1.columns"
   ]
  },
  {
   "cell_type": "code",
   "execution_count": 7,
   "metadata": {},
   "outputs": [
    {
     "name": "stdout",
     "output_type": "stream",
     "text": [
      "Create dataFrame using ndarray\n",
      "    count  price\n",
      "v1     10      1\n",
      "v2     12      2\n",
      "v3      7      3\n"
     ]
    }
   ],
   "source": [
    "import numpy as np\n",
    "print 'Create dataFrame using ndarray'\n",
    "d2 = {\"price\":np.array([1,2,3]),\n",
    "     \"count\":np.array([10,12,7])}\n",
    "\n",
    "df2 = pd.DataFrame(d2, index = ['v1','v2','v3'])\n",
    "print df2"
   ]
  },
  {
   "cell_type": "code",
   "execution_count": 8,
   "metadata": {},
   "outputs": [
    {
     "name": "stdout",
     "output_type": "stream",
     "text": [
      "Create dataFrame using ndarray\n",
      "    0   1   2\n",
      "0   1   2   3\n",
      "1  10  20  30\n"
     ]
    }
   ],
   "source": [
    "print 'Create dataFrame using ndarray'\n",
    "nda1 = np.array([[1,2,3],[10,20,30]])\n",
    "df3 = pd.DataFrame(nda1)\n",
    "print df3"
   ]
  },
  {
   "cell_type": "code",
   "execution_count": 16,
   "metadata": {},
   "outputs": [
    {
     "name": "stdout",
     "output_type": "stream",
     "text": [
      "   count  price\n",
      "a     10      1\n",
      "b     20      2\n",
      "c     30      3\n",
      "-------------\n",
      "Select column\n",
      "a    10\n",
      "b    20\n",
      "c    30\n",
      "Name: count, dtype: int32\n",
      "-------------\n",
      "Select row\n",
      "count    10\n",
      "price     1\n",
      "Name: a, dtype: int32\n",
      "-------------\n",
      "Select row by index\n",
      "count    20\n",
      "price     2\n",
      "Name: b, dtype: int32\n",
      "-------------\n",
      "Slice\n",
      "   count  price\n",
      "a     10      1\n",
      "b     20      2\n",
      "-------------\n",
      "Select by condition\n",
      "   count  price\n",
      "b     20      2\n",
      "c     30      3\n"
     ]
    }
   ],
   "source": [
    "d3 = {\"price\": np.array([1,2,3]),\n",
    "     \"count\": np.array([10,20,30])}\n",
    "df4 = pd.DataFrame(d3, index=['a','b','c'])\n",
    "print df4\n",
    "print '-------------'\n",
    "print 'Select column'\n",
    "print df4['count']\n",
    "print '-------------'\n",
    "print 'Select row'\n",
    "print df4.loc['a']\n",
    "print '-------------'\n",
    "print 'Select row by index'\n",
    "print df4.iloc[1]\n",
    "print '-------------'\n",
    "print 'Slice'\n",
    "print df4[0:2]\n",
    "print '-------------'\n",
    "print 'Select by condition'\n",
    "print df4[df4['count'] >= 20]"
   ]
  },
  {
   "cell_type": "code",
   "execution_count": null,
   "metadata": {},
   "outputs": [],
   "source": []
  }
 ],
 "metadata": {
  "kernelspec": {
   "display_name": "Python 2",
   "language": "python",
   "name": "python2"
  },
  "language_info": {
   "codemirror_mode": {
    "name": "ipython",
    "version": 2
   },
   "file_extension": ".py",
   "mimetype": "text/x-python",
   "name": "python",
   "nbconvert_exporter": "python",
   "pygments_lexer": "ipython2",
   "version": "2.7.16"
  }
 },
 "nbformat": 4,
 "nbformat_minor": 2
}
