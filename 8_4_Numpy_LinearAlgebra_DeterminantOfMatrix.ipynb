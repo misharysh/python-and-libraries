{
 "cells": [
  {
   "cell_type": "code",
   "execution_count": 2,
   "metadata": {},
   "outputs": [
    {
     "name": "stdout",
     "output_type": "stream",
     "text": [
      "determinant of matrix\n",
      "[[-4 -1  2]\n",
      " [10  4 -1]\n",
      " [ 8  3  1]]\n",
      "-14.000000000000009\n"
     ]
    }
   ],
   "source": [
    "print 'determinant of matrix'\n",
    "import numpy as np\n",
    "A = np.matrix('-4 -1 2; 10 4 -1; 8 3 1')\n",
    "print A\n",
    "det = np.linalg.det(A)\n",
    "print det"
   ]
  },
  {
   "cell_type": "code",
   "execution_count": 5,
   "metadata": {},
   "outputs": [
    {
     "name": "stdout",
     "output_type": "stream",
     "text": [
      "1. determinant of matrix and transpose of matrix\n",
      "[[-4 -1  2]\n",
      " [10  4 -1]\n",
      " [ 8  3  1]]\n",
      "[[-4 10  8]\n",
      " [-1  4  3]\n",
      " [ 2 -1  1]]\n",
      "-14.0\n",
      "-14.0\n"
     ]
    }
   ],
   "source": [
    "print '1. determinant of matrix and transpose of matrix'\n",
    "A = np.matrix('-4 -1 2; 10 4 -1; 8 3 1')\n",
    "print A\n",
    "print A.T\n",
    "det_A = round(np.linalg.det(A),3)\n",
    "det_A_t = round(np.linalg.det(A.T),3)\n",
    "\n",
    "print det_A\n",
    "print det_A_t"
   ]
  },
  {
   "cell_type": "code",
   "execution_count": 6,
   "metadata": {},
   "outputs": [
    {
     "name": "stdout",
     "output_type": "stream",
     "text": [
      "2. determinant of matrix and row with zeros\n",
      "0.0\n"
     ]
    }
   ],
   "source": [
    "print '2. determinant of matrix and row with zeros'\n",
    "A = np.matrix('-4 -1 2; 0 0 0; 8 3 1')\n",
    "det_A = np.linalg.det(A)\n",
    "print det_A"
   ]
  },
  {
   "cell_type": "code",
   "execution_count": 8,
   "metadata": {
    "scrolled": true
   },
   "outputs": [
    {
     "name": "stdout",
     "output_type": "stream",
     "text": [
      "3. determinant of matrix and replacement of rows\n",
      "[[-4 -1  2]\n",
      " [10  4 -1]\n",
      " [ 8  3  1]]\n",
      "[[10  4 -1]\n",
      " [-4 -1  2]\n",
      " [ 8  3  1]]\n",
      "-14.0\n",
      "14.0\n"
     ]
    }
   ],
   "source": [
    "print '3. determinant of matrix and replacement of rows'\n",
    "\n",
    "A = np.matrix('-4 -1 2; 10 4 -1; 8 3 1')\n",
    "B = np.matrix('10 4 -1; -4 -1 2; 8 3 1')\n",
    "print A\n",
    "print B\n",
    "\n",
    "det_A = round(np.linalg.det(A),3)\n",
    "det_B = round(np.linalg.det(B),3)\n",
    "print det_A\n",
    "print det_B"
   ]
  },
  {
   "cell_type": "code",
   "execution_count": 9,
   "metadata": {},
   "outputs": [
    {
     "name": "stdout",
     "output_type": "stream",
     "text": [
      "4. determinant of matrix and two identical rows\n",
      "0.0\n"
     ]
    }
   ],
   "source": [
    "print '4. determinant of matrix and two identical rows'\n",
    "A = np.matrix('-4 -1 2; -4 -1 2; 8 3 1')\n",
    "det_A = np.linalg.det(A)\n",
    "print det_A"
   ]
  },
  {
   "cell_type": "code",
   "execution_count": null,
   "metadata": {},
   "outputs": [],
   "source": []
  }
 ],
 "metadata": {
  "kernelspec": {
   "display_name": "Python 2",
   "language": "python",
   "name": "python2"
  },
  "language_info": {
   "codemirror_mode": {
    "name": "ipython",
    "version": 2
   },
   "file_extension": ".py",
   "mimetype": "text/x-python",
   "name": "python",
   "nbconvert_exporter": "python",
   "pygments_lexer": "ipython2",
   "version": "2.7.16"
  }
 },
 "nbformat": 4,
 "nbformat_minor": 2
}
