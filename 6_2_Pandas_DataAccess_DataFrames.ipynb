{
 "cells": [
  {
   "cell_type": "code",
   "execution_count": 1,
   "metadata": {},
   "outputs": [
    {
     "name": "stdout",
     "output_type": "stream",
     "text": [
      "   count  percent  price\n",
      "a     10       24      1\n",
      "b     20       51      2\n",
      "c     30       71      3\n"
     ]
    }
   ],
   "source": [
    "import pandas as pd\n",
    "d = {\"price\":[1,2,3], \"count\":[10,20,30],\"percent\":[24,51,71]}\n",
    "df = pd.DataFrame(d, index=['a','b','c'])\n",
    "\n",
    "print df"
   ]
  },
  {
   "cell_type": "code",
   "execution_count": 2,
   "metadata": {},
   "outputs": [
    {
     "name": "stdout",
     "output_type": "stream",
     "text": [
      "a    10\n",
      "b    20\n",
      "c    30\n",
      "Name: count, dtype: int64\n"
     ]
    }
   ],
   "source": [
    "print df['count']"
   ]
  },
  {
   "cell_type": "code",
   "execution_count": 3,
   "metadata": {},
   "outputs": [
    {
     "name": "stdout",
     "output_type": "stream",
     "text": [
      "   count  percent\n",
      "a     10       24\n",
      "b     20       51\n",
      "c     30       71\n"
     ]
    }
   ],
   "source": [
    "print df[['count','percent']]"
   ]
  },
  {
   "cell_type": "code",
   "execution_count": 4,
   "metadata": {},
   "outputs": [
    {
     "name": "stdout",
     "output_type": "stream",
     "text": [
      "   count  percent  price\n",
      "a     10       24      1\n",
      "b     20       51      2\n"
     ]
    }
   ],
   "source": [
    "print df['a':'b']"
   ]
  },
  {
   "cell_type": "code",
   "execution_count": 5,
   "metadata": {},
   "outputs": [
    {
     "name": "stdout",
     "output_type": "stream",
     "text": [
      "   count  percent  price\n",
      "b     20       51      2\n",
      "c     30       71      3\n"
     ]
    }
   ],
   "source": [
    "print df[lambda x : x['count'] >= 20]"
   ]
  },
  {
   "cell_type": "code",
   "execution_count": 6,
   "metadata": {},
   "outputs": [
    {
     "name": "stdout",
     "output_type": "stream",
     "text": [
      "   count  percent  price\n",
      "c     30       71      3\n"
     ]
    }
   ],
   "source": [
    "print df[df['price'] > 2]"
   ]
  },
  {
   "cell_type": "code",
   "execution_count": null,
   "metadata": {},
   "outputs": [],
   "source": []
  }
 ],
 "metadata": {
  "kernelspec": {
   "display_name": "Python 2",
   "language": "python",
   "name": "python2"
  },
  "language_info": {
   "codemirror_mode": {
    "name": "ipython",
    "version": 2
   },
   "file_extension": ".py",
   "mimetype": "text/x-python",
   "name": "python",
   "nbconvert_exporter": "python",
   "pygments_lexer": "ipython2",
   "version": "2.7.16"
  }
 },
 "nbformat": 4,
 "nbformat_minor": 2
}
