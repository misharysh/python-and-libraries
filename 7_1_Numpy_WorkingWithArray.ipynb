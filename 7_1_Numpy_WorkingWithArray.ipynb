{
 "cells": [
  {
   "cell_type": "code",
   "execution_count": 1,
   "metadata": {},
   "outputs": [
    {
     "name": "stdout",
     "output_type": "stream",
     "text": [
      "[[1 2 3 4]\n",
      " [5 6 7 8]\n",
      " [9 1 5 7]]\n"
     ]
    }
   ],
   "source": [
    "import numpy as np\n",
    "m  = np.matrix('1 2 3 4; 5 6 7 8; 9 1 5 7')\n",
    "print m"
   ]
  },
  {
   "cell_type": "code",
   "execution_count": 2,
   "metadata": {},
   "outputs": [
    {
     "name": "stdout",
     "output_type": "stream",
     "text": [
      "get element from row 1 and column 0\n",
      "5\n"
     ]
    }
   ],
   "source": [
    "print 'get element from row 1 and column 0'\n",
    "print m[1,0]"
   ]
  },
  {
   "cell_type": "code",
   "execution_count": 3,
   "metadata": {},
   "outputs": [
    {
     "name": "stdout",
     "output_type": "stream",
     "text": [
      "get second row from matrix\n",
      "[[5 6 7 8]]\n"
     ]
    }
   ],
   "source": [
    "print 'get second row from matrix'\n",
    "print m[1, :]"
   ]
  },
  {
   "cell_type": "code",
   "execution_count": 4,
   "metadata": {},
   "outputs": [
    {
     "name": "stdout",
     "output_type": "stream",
     "text": [
      "get third column from matrix\n",
      "[[3]\n",
      " [7]\n",
      " [5]]\n"
     ]
    }
   ],
   "source": [
    "print 'get third column from matrix'\n",
    "print m[: , 2]"
   ]
  },
  {
   "cell_type": "code",
   "execution_count": 5,
   "metadata": {},
   "outputs": [
    {
     "name": "stdout",
     "output_type": "stream",
     "text": [
      "get elements from second row starting from third element\n",
      "[[7 8]]\n"
     ]
    }
   ],
   "source": [
    "print 'get elements from second row starting from third element'\n",
    "print m[1, 2:]"
   ]
  },
  {
   "cell_type": "code",
   "execution_count": 6,
   "metadata": {},
   "outputs": [
    {
     "name": "stdout",
     "output_type": "stream",
     "text": [
      "get part of column\n",
      "[[2]\n",
      " [6]]\n"
     ]
    }
   ],
   "source": [
    "print 'get part of column'\n",
    "print m[0:2, 1]"
   ]
  },
  {
   "cell_type": "code",
   "execution_count": 7,
   "metadata": {},
   "outputs": [
    {
     "name": "stdout",
     "output_type": "stream",
     "text": [
      "get part of matrix\n",
      "[[2 3]\n",
      " [6 7]]\n"
     ]
    }
   ],
   "source": [
    "print 'get part of matrix'\n",
    "print m[0:2, 1:3]"
   ]
  },
  {
   "cell_type": "code",
   "execution_count": 9,
   "metadata": {},
   "outputs": [
    {
     "name": "stdout",
     "output_type": "stream",
     "text": [
      "get concrete columns\n",
      "[[1 2 4]\n",
      " [5 6 8]\n",
      " [9 1 7]]\n"
     ]
    }
   ],
   "source": [
    "print 'get concrete columns'\n",
    "cols = [0,1,3]\n",
    "print m[:, cols]"
   ]
  },
  {
   "cell_type": "code",
   "execution_count": null,
   "metadata": {},
   "outputs": [],
   "source": []
  }
 ],
 "metadata": {
  "kernelspec": {
   "display_name": "Python 2",
   "language": "python",
   "name": "python2"
  },
  "language_info": {
   "codemirror_mode": {
    "name": "ipython",
    "version": 2
   },
   "file_extension": ".py",
   "mimetype": "text/x-python",
   "name": "python",
   "nbconvert_exporter": "python",
   "pygments_lexer": "ipython2",
   "version": "2.7.16"
  }
 },
 "nbformat": 4,
 "nbformat_minor": 2
}
