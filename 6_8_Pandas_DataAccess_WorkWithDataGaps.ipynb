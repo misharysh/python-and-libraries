{
 "cells": [
  {
   "cell_type": "code",
   "execution_count": 2,
   "metadata": {},
   "outputs": [
    {
     "name": "stdout",
     "output_type": "stream",
     "text": [
      "   price  count  percent\n",
      "0      1     10      NaN\n",
      "1      2     20     51.0\n",
      "2      3     30      NaN\n"
     ]
    }
   ],
   "source": [
    "import pandas as pd\n",
    "from io import StringIO\n",
    "\n",
    "data = u'price,count,percent\\n1,10,\\n2,20,51\\n3,30,'\n",
    "df = pd.read_csv(StringIO(data))\n",
    "\n",
    "print df"
   ]
  },
  {
   "cell_type": "code",
   "execution_count": 3,
   "metadata": {},
   "outputs": [
    {
     "name": "stdout",
     "output_type": "stream",
     "text": [
      "   price  count  percent\n",
      "0    1.0   10.0      NaN\n",
      "1    2.0   20.0     51.0\n",
      "2    3.0   30.0      NaN\n",
      "3    4.0    NaN     26.3\n"
     ]
    }
   ],
   "source": [
    "df.loc[3] = {'price': 4, 'count': None, 'percent': 26.3}\n",
    "print df"
   ]
  },
  {
   "cell_type": "code",
   "execution_count": 4,
   "metadata": {},
   "outputs": [
    {
     "name": "stdout",
     "output_type": "stream",
     "text": [
      "Check if DataFrame has NaN values\n",
      "   price  count  percent\n",
      "0  False  False     True\n",
      "1  False  False    False\n",
      "2  False  False     True\n",
      "3  False   True    False\n"
     ]
    }
   ],
   "source": [
    "print 'Check if DataFrame has NaN values'\n",
    "print pd.isnull(df)"
   ]
  },
  {
   "cell_type": "code",
   "execution_count": 5,
   "metadata": {},
   "outputs": [
    {
     "name": "stdout",
     "output_type": "stream",
     "text": [
      "Select info of DataFrame\n",
      "<class 'pandas.core.frame.DataFrame'>\n",
      "Int64Index: 4 entries, 0 to 3\n",
      "Data columns (total 3 columns):\n",
      "price      4 non-null float64\n",
      "count      3 non-null float64\n",
      "percent    2 non-null float64\n",
      "dtypes: float64(3)\n",
      "memory usage: 128.0 bytes\n",
      "None\n"
     ]
    }
   ],
   "source": [
    "print 'Select info of DataFrame'\n",
    "print df.info()"
   ]
  },
  {
   "cell_type": "code",
   "execution_count": 6,
   "metadata": {},
   "outputs": [
    {
     "name": "stdout",
     "output_type": "stream",
     "text": [
      "price      0\n",
      "count      1\n",
      "percent    2\n",
      "dtype: int64\n"
     ]
    }
   ],
   "source": [
    "print df.isnull().sum()"
   ]
  },
  {
   "cell_type": "code",
   "execution_count": 11,
   "metadata": {},
   "outputs": [
    {
     "name": "stdout",
     "output_type": "stream",
     "text": [
      "Replace all NaN values with zero\n",
      "   price  count  percent\n",
      "0    1.0   10.0      0.0\n",
      "1    2.0   20.0     51.0\n",
      "2    3.0   30.0      0.0\n",
      "3    4.0    0.0     26.3\n"
     ]
    }
   ],
   "source": [
    "print 'Replace all NaN values with zero'\n",
    "df.fillna(0, inplace = True)\n",
    "print df"
   ]
  },
  {
   "cell_type": "code",
   "execution_count": 16,
   "metadata": {},
   "outputs": [
    {
     "name": "stdout",
     "output_type": "stream",
     "text": [
      "Replace all NaN values by average values\n",
      "   price  count  percent\n",
      "0      1     10      NaN\n",
      "1      2     20     51.0\n",
      "2      3     30      NaN\n",
      "   price  count  percent\n",
      "0      1     10     51.0\n",
      "1      2     20     51.0\n",
      "2      3     30     51.0\n"
     ]
    }
   ],
   "source": [
    "print 'Replace all NaN values by average values'\n",
    "\n",
    "data = u'price,count,percent\\n1,10,\\n2,20,51\\n3,30,'\n",
    "df1 = pd.read_csv(StringIO(data))\n",
    "\n",
    "print df1\n",
    "\n",
    "df1.fillna(df1.mean(), inplace = True)\n",
    "print df1"
   ]
  },
  {
   "cell_type": "code",
   "execution_count": 18,
   "metadata": {},
   "outputs": [
    {
     "name": "stdout",
     "output_type": "stream",
     "text": [
      "Delete all objects with NaN values\n",
      "   price  count  percent\n",
      "0      1     10      NaN\n",
      "1      2     20     51.0\n",
      "2      3     30      NaN\n",
      "   price  count  percent\n",
      "1      2     20     51.0\n"
     ]
    }
   ],
   "source": [
    "print 'Delete all objects with NaN values'\n",
    "\n",
    "data = u'price,count,percent\\n1,10,\\n2,20,51\\n3,30,'\n",
    "df2 = pd.read_csv(StringIO(data))\n",
    "\n",
    "print df2\n",
    "\n",
    "print df2.dropna()"
   ]
  },
  {
   "cell_type": "code",
   "execution_count": null,
   "metadata": {},
   "outputs": [],
   "source": []
  }
 ],
 "metadata": {
  "kernelspec": {
   "display_name": "Python 2",
   "language": "python",
   "name": "python2"
  },
  "language_info": {
   "codemirror_mode": {
    "name": "ipython",
    "version": 2
   },
   "file_extension": ".py",
   "mimetype": "text/x-python",
   "name": "python",
   "nbconvert_exporter": "python",
   "pygments_lexer": "ipython2",
   "version": "2.7.16"
  }
 },
 "nbformat": 4,
 "nbformat_minor": 2
}
