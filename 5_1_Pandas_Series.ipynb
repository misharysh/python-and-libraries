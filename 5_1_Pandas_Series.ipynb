{
 "cells": [
  {
   "cell_type": "code",
   "execution_count": 2,
   "metadata": {},
   "outputs": [],
   "source": [
    "import pandas as pd\n",
    "import numpy as np"
   ]
  },
  {
   "cell_type": "code",
   "execution_count": 3,
   "metadata": {},
   "outputs": [
    {
     "name": "stdout",
     "output_type": "stream",
     "text": [
      "Create Series\n",
      "0    1\n",
      "1    2\n",
      "2    3\n",
      "3    4\n",
      "4    5\n",
      "dtype: int64\n"
     ]
    }
   ],
   "source": [
    "print 'Create Series'\n",
    "s1 = pd.Series([1,2,3,4,5])\n",
    "print s1"
   ]
  },
  {
   "cell_type": "code",
   "execution_count": 5,
   "metadata": {},
   "outputs": [
    {
     "name": "stdout",
     "output_type": "stream",
     "text": [
      "3\n"
     ]
    }
   ],
   "source": [
    "print s1[2]"
   ]
  },
  {
   "cell_type": "code",
   "execution_count": 6,
   "metadata": {},
   "outputs": [
    {
     "name": "stdout",
     "output_type": "stream",
     "text": [
      "a    1\n",
      "b    2\n",
      "c    3\n",
      "d    4\n",
      "e    5\n",
      "dtype: int64\n"
     ]
    }
   ],
   "source": [
    "s2 = pd.Series([1,2,3,4,5],['a','b','c','d','e'])\n",
    "print s2"
   ]
  },
  {
   "cell_type": "code",
   "execution_count": 8,
   "metadata": {},
   "outputs": [
    {
     "name": "stdout",
     "output_type": "stream",
     "text": [
      "3\n"
     ]
    }
   ],
   "source": [
    "print s2['c']"
   ]
  },
  {
   "cell_type": "code",
   "execution_count": 9,
   "metadata": {},
   "outputs": [
    {
     "name": "stdout",
     "output_type": "stream",
     "text": [
      "Create Series from Numpy\n",
      "a    1\n",
      "b    2\n",
      "c    3\n",
      "d    4\n",
      "e    5\n",
      "dtype: int32\n"
     ]
    }
   ],
   "source": [
    "print 'Create Series from Numpy'\n",
    "ndarr = np.array([1,2,3,4,5])\n",
    "s3 = pd.Series(ndarr, ['a','b','c','d','e'])\n",
    "print s3"
   ]
  },
  {
   "cell_type": "code",
   "execution_count": 10,
   "metadata": {},
   "outputs": [
    {
     "name": "stdout",
     "output_type": "stream",
     "text": [
      "Create Series using Dictionary\n",
      "a    1\n",
      "b    2\n",
      "c    3\n",
      "dtype: int64\n"
     ]
    }
   ],
   "source": [
    "print 'Create Series using Dictionary'\n",
    "d = {'a': 1,'b':2,'c':3}\n",
    "s4 = pd.Series(d)\n",
    "print s4"
   ]
  },
  {
   "cell_type": "code",
   "execution_count": 11,
   "metadata": {},
   "outputs": [
    {
     "name": "stdout",
     "output_type": "stream",
     "text": [
      "Create Series with constant\n",
      "a    7\n",
      "b    7\n",
      "c    7\n",
      "d    7\n",
      "e    7\n",
      "dtype: int64\n"
     ]
    }
   ],
   "source": [
    "print 'Create Series with constant'\n",
    "a = 7\n",
    "s5 = pd.Series(a, ['a','b','c','d','e'])\n",
    "print s5"
   ]
  },
  {
   "cell_type": "code",
   "execution_count": 14,
   "metadata": {},
   "outputs": [
    {
     "name": "stdout",
     "output_type": "stream",
     "text": [
      "Working with Series like with vectors\n",
      "a     7\n",
      "b     9\n",
      "c    11\n",
      "d    13\n",
      "e    15\n",
      "dtype: int64\n",
      "a     3\n",
      "b     6\n",
      "c     9\n",
      "d    12\n",
      "e    15\n",
      "dtype: int64\n"
     ]
    }
   ],
   "source": [
    "print 'Working with Series like with vectors'\n",
    "s6 = pd.Series([1,2,3,4,5],['a','b','c','d','e'])\n",
    "s7 = pd.Series([6,7,8,9,10],['a','b','c','d','e'])\n",
    "\n",
    "s8 = s6 + s7\n",
    "print s8\n",
    "\n",
    "\n",
    "s9 = s6 * 3\n",
    "print s9"
   ]
  },
  {
   "cell_type": "code",
   "execution_count": null,
   "metadata": {},
   "outputs": [],
   "source": []
  }
 ],
 "metadata": {
  "kernelspec": {
   "display_name": "Python 2",
   "language": "python",
   "name": "python2"
  },
  "language_info": {
   "codemirror_mode": {
    "name": "ipython",
    "version": 2
   },
   "file_extension": ".py",
   "mimetype": "text/x-python",
   "name": "python",
   "nbconvert_exporter": "python",
   "pygments_lexer": "ipython2",
   "version": "2.7.16"
  }
 },
 "nbformat": 4,
 "nbformat_minor": 2
}
