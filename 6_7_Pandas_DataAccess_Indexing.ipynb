{
 "cells": [
  {
   "cell_type": "code",
   "execution_count": 1,
   "metadata": {},
   "outputs": [
    {
     "name": "stdout",
     "output_type": "stream",
     "text": [
      "a    10\n",
      "b    20\n",
      "c    30\n",
      "d    40\n",
      "e    50\n",
      "f    10\n",
      "g    10\n",
      "dtype: int64\n"
     ]
    }
   ],
   "source": [
    "import pandas as pd\n",
    "s = pd.Series([10, 20, 30, 40, 50, 10, 10], ['a', 'b', 'c', 'd', 'e', 'f', 'g'])\n",
    "print s"
   ]
  },
  {
   "cell_type": "code",
   "execution_count": 2,
   "metadata": {},
   "outputs": [
    {
     "name": "stdout",
     "output_type": "stream",
     "text": [
      "d    40\n",
      "e    50\n",
      "dtype: int64\n"
     ]
    }
   ],
   "source": [
    "print s[s>30]"
   ]
  },
  {
   "cell_type": "code",
   "execution_count": 3,
   "metadata": {},
   "outputs": [
    {
     "name": "stdout",
     "output_type": "stream",
     "text": [
      "a    10\n",
      "f    10\n",
      "g    10\n",
      "dtype: int64\n"
     ]
    }
   ],
   "source": [
    "print s[s==10]"
   ]
  },
  {
   "cell_type": "code",
   "execution_count": 4,
   "metadata": {},
   "outputs": [
    {
     "name": "stdout",
     "output_type": "stream",
     "text": [
      "c    30\n",
      "d    40\n",
      "dtype: int64\n"
     ]
    }
   ],
   "source": [
    "print s[(s>=30) & (s<50)]"
   ]
  },
  {
   "cell_type": "code",
   "execution_count": 6,
   "metadata": {},
   "outputs": [
    {
     "name": "stdout",
     "output_type": "stream",
     "text": [
      "  cat  count  percent  price\n",
      "0   A     10       24      1\n",
      "1   B     20       51      2\n",
      "2   A     30       71      3\n",
      "3   A     40       25      5\n",
      "4   C     50       42      6\n"
     ]
    }
   ],
   "source": [
    "d = {\"price\":[1, 2, 3, 5, 6], \"count\": [10, 20, 30, 40, 50], \"percent\": [24, 51, 71, 25, 42],\"cat\":[\"A\", \"B\", \"A\", \"A\", \"C\"]}\n",
    "df = pd.DataFrame(d)\n",
    "print df"
   ]
  },
  {
   "cell_type": "code",
   "execution_count": 7,
   "metadata": {},
   "outputs": [
    {
     "name": "stdout",
     "output_type": "stream",
     "text": [
      "  cat  count  percent  price\n",
      "3   A     40       25      5\n",
      "4   C     50       42      6\n"
     ]
    }
   ],
   "source": [
    "print df[df[\"price\"] > 3]"
   ]
  },
  {
   "cell_type": "code",
   "execution_count": 8,
   "metadata": {},
   "outputs": [
    {
     "name": "stdout",
     "output_type": "stream",
     "text": [
      "0     True\n",
      "1    False\n",
      "2     True\n",
      "3     True\n",
      "4    False\n",
      "Name: cat, dtype: bool\n"
     ]
    }
   ],
   "source": [
    "print df[\"cat\"].map(lambda x: x == \"A\")"
   ]
  },
  {
   "cell_type": "code",
   "execution_count": 9,
   "metadata": {},
   "outputs": [
    {
     "name": "stdout",
     "output_type": "stream",
     "text": [
      "  cat  count  percent  price\n",
      "0   A     10       24      1\n",
      "2   A     30       71      3\n",
      "3   A     40       25      5\n"
     ]
    }
   ],
   "source": [
    "fn = df[\"cat\"].map(lambda x: x == \"A\")\n",
    "print df[fn]"
   ]
  },
  {
   "cell_type": "code",
   "execution_count": 10,
   "metadata": {},
   "outputs": [
    {
     "name": "stdout",
     "output_type": "stream",
     "text": [
      "a     True\n",
      "b     True\n",
      "c    False\n",
      "d    False\n",
      "e    False\n",
      "f     True\n",
      "g     True\n",
      "dtype: bool\n"
     ]
    }
   ],
   "source": [
    "s = pd.Series([10, 20, 30, 40, 50, 10, 10], ['a', 'b', 'c', 'd', 'e', 'f', 'g'])\n",
    "print s.isin([10,20])"
   ]
  },
  {
   "cell_type": "code",
   "execution_count": 11,
   "metadata": {},
   "outputs": [
    {
     "name": "stdout",
     "output_type": "stream",
     "text": [
      "   count  percent  price\n",
      "0   True    False   True\n",
      "1  False    False  False\n",
      "2   True    False   True\n",
      "3  False     True  False\n",
      "4  False    False  False\n"
     ]
    }
   ],
   "source": [
    "df = pd.DataFrame({\"price\":[1, 2, 3, 5, 6], \"count\": [10, 20, 30, 40, 50], \"percent\": [24, 51, 71, 25, 42]})\n",
    "print df.isin([1,3,25,30,10])"
   ]
  },
  {
   "cell_type": "code",
   "execution_count": null,
   "metadata": {},
   "outputs": [],
   "source": []
  }
 ],
 "metadata": {
  "kernelspec": {
   "display_name": "Python 2",
   "language": "python",
   "name": "python2"
  },
  "language_info": {
   "codemirror_mode": {
    "name": "ipython",
    "version": 2
   },
   "file_extension": ".py",
   "mimetype": "text/x-python",
   "name": "python",
   "nbconvert_exporter": "python",
   "pygments_lexer": "ipython2",
   "version": "2.7.16"
  }
 },
 "nbformat": 4,
 "nbformat_minor": 2
}
