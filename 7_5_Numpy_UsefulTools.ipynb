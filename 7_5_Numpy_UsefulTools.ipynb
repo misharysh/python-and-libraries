{
 "cells": [
  {
   "cell_type": "code",
   "execution_count": 2,
   "metadata": {},
   "outputs": [
    {
     "name": "stdout",
     "output_type": "stream",
     "text": [
      "Convert matrix to vector\n",
      "[[1 2 3]\n",
      " [4 5 6]\n",
      " [7 8 9]]\n",
      "[1 2 3 4 5 6 7 8 9]\n"
     ]
    }
   ],
   "source": [
    "import numpy as np\n",
    "print 'Convert matrix to vector'\n",
    "A = np.array([[1,2,3],[4,5,6],[7,8,9]])\n",
    "print A\n",
    "print np.ravel(A)"
   ]
  },
  {
   "cell_type": "code",
   "execution_count": 3,
   "metadata": {},
   "outputs": [
    {
     "name": "stdout",
     "output_type": "stream",
     "text": [
      "[1 4 7 2 5 8 3 6 9]\n"
     ]
    }
   ],
   "source": [
    "print np.ravel(A, order='F')"
   ]
  },
  {
   "cell_type": "code",
   "execution_count": 12,
   "metadata": {},
   "outputs": [
    {
     "name": "stdout",
     "output_type": "stream",
     "text": [
      "Condition - Where\n",
      "[1 2 3 4 5 6 7 8 9]\n",
      "(array([1, 3, 5, 7], dtype=int64),)\n"
     ]
    }
   ],
   "source": [
    "print 'Condition - Where'\n",
    "b = np.ravel(A);\n",
    "print b\n",
    "print np.where(b % 2 == 0)"
   ]
  },
  {
   "cell_type": "code",
   "execution_count": 16,
   "metadata": {},
   "outputs": [
    {
     "name": "stdout",
     "output_type": "stream",
     "text": [
      "Condition - Where\n",
      "[0.50010347 0.27353294 0.36792961 0.52068717 0.15886845 0.63858994\n",
      " 0.24645983 0.0955016  0.15563204 0.75124933]\n",
      "[ True False False  True False  True False False False  True]\n",
      "[ 1 -1 -1  1 -1  1 -1 -1 -1  1]\n"
     ]
    }
   ],
   "source": [
    "print 'Condition - Where'\n",
    "a = np.random.rand(10)\n",
    "print a\n",
    "print np.where(a > 0.5, True, False)\n",
    "print np.where(a > 0.5, 1, -1)"
   ]
  },
  {
   "cell_type": "code",
   "execution_count": 26,
   "metadata": {},
   "outputs": [
    {
     "name": "stdout",
     "output_type": "stream",
     "text": [
      "Get matrices from vectors\n",
      "[0.   0.25 0.5  0.75 1.  ]\n",
      "[0.  0.5 1.  1.5 2. ]\n"
     ]
    }
   ],
   "source": [
    "print 'Get matrices from vectors'\n",
    "x = np.linspace(0,1,5)\n",
    "print x\n",
    "y = np.linspace(0,2,5)\n",
    "print y"
   ]
  },
  {
   "cell_type": "code",
   "execution_count": 22,
   "metadata": {},
   "outputs": [
    {
     "name": "stdout",
     "output_type": "stream",
     "text": [
      "[[0.   0.25 0.5  0.75 1.  ]\n",
      " [0.   0.25 0.5  0.75 1.  ]\n",
      " [0.   0.25 0.5  0.75 1.  ]\n",
      " [0.   0.25 0.5  0.75 1.  ]\n",
      " [0.   0.25 0.5  0.75 1.  ]]\n",
      "[[0.  0.  0.  0.  0. ]\n",
      " [0.5 0.5 0.5 0.5 0.5]\n",
      " [1.  1.  1.  1.  1. ]\n",
      " [1.5 1.5 1.5 1.5 1.5]\n",
      " [2.  2.  2.  2.  2. ]]\n"
     ]
    }
   ],
   "source": [
    "xg, yg = np.meshgrid(x,y)\n",
    "'print xg matrix'\n",
    "print xg\n",
    "'print yg matrix'\n",
    "print yg"
   ]
  },
  {
   "cell_type": "code",
   "execution_count": 25,
   "metadata": {},
   "outputs": [
    {
     "data": {
      "text/plain": [
       "[<matplotlib.lines.Line2D at 0x8a9d2e8>,\n",
       " <matplotlib.lines.Line2D at 0x8a9d358>,\n",
       " <matplotlib.lines.Line2D at 0x8a9d400>,\n",
       " <matplotlib.lines.Line2D at 0x8a9d4a8>,\n",
       " <matplotlib.lines.Line2D at 0x8a9d550>]"
      ]
     },
     "execution_count": 25,
     "metadata": {},
     "output_type": "execute_result"
    },
    {
     "data": {
      "image/png": "[encoded data removed]",
      "text/plain": [
       "<Figure size 432x288 with 1 Axes>"
      ]
     },
     "metadata": {
      "needs_background": "light"
     },
     "output_type": "display_data"
    }
   ],
   "source": [
    "import matplotlib.pyplot as plt\n",
    "plt.plot(xg,yg,color=\"r\",marker=\"*\",linestyle=\"none\")"
   ]
  },
  {
   "cell_type": "code",
   "execution_count": 27,
   "metadata": {},
   "outputs": [
    {
     "name": "stdout",
     "output_type": "stream",
     "text": [
      "list generation\n",
      "[6 1 4 0 2 3 5]\n"
     ]
    }
   ],
   "source": [
    "print 'list generation'\n",
    "print np.random.permutation(7)"
   ]
  },
  {
   "cell_type": "code",
   "execution_count": 28,
   "metadata": {},
   "outputs": [
    {
     "name": "stdout",
     "output_type": "stream",
     "text": [
      "['b' 'a' 'c' 'e' 'd' 'f']\n"
     ]
    }
   ],
   "source": [
    "a = ['a','b','c','d','e','f']\n",
    "print np.random.permutation(a)"
   ]
  },
  {
   "cell_type": "code",
   "execution_count": 30,
   "metadata": {},
   "outputs": [
    {
     "name": "stdout",
     "output_type": "stream",
     "text": [
      "[ 0.   2.5  5.   7.5 10. ]\n",
      "[ 0.   2.5 10.   5.   7.5]\n"
     ]
    }
   ],
   "source": [
    "arr = np.linspace(0,10,5)\n",
    "print arr\n",
    "arr_mix = np.random.permutation(arr)\n",
    "print arr_mix"
   ]
  }
 ],
 "metadata": {
  "kernelspec": {
   "display_name": "Python 2",
   "language": "python",
   "name": "python2"
  },
  "language_info": {
   "codemirror_mode": {
    "name": "ipython",
    "version": 2
   },
   "file_extension": ".py",
   "mimetype": "text/x-python",
   "name": "python",
   "nbconvert_exporter": "python",
   "pygments_lexer": "ipython2",
   "version": "2.7.16"
  }
 },
 "nbformat": 4,
 "nbformat_minor": 2
}
